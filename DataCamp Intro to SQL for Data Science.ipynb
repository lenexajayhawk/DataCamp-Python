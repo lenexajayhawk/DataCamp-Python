{
 "cells": [
  {
   "cell_type": "markdown",
   "metadata": {},
   "source": [
    "Early in the course the DataCamp interface is introduced, with the tab format and how to go back and forth.\n",
    "\n",
    "Onboarding | Errors\n",
    "\n",
    "If you submit the code to the right, you'll see that you get two types of errors.\n",
    "\n",
    "SQL errors are shown below the editor. These are errors returned by the SQL engine. You should see:\n",
    "\n",
    "syntax error at or near \"'DataCamp <3 SQL'\" LINE 2: 'DataCamp <3 SQL' ^\n",
    "\n",
    "DataCamp errors are shown in the Instructions box. These will let you know in plain English where you went wrong in your code! You should see:\n",
    "\n",
    "You need to add SELECT at the start of line 2!"
   ]
  },
  {
   "cell_type": "code",
   "execution_count": null,
   "metadata": {},
   "outputs": [],
   "source": [
    "-- Try running me!\n",
    " SELECT 'DataCamp <3 SQL'\n",
    "AS result;"
   ]
  },
  {
   "cell_type": "markdown",
   "metadata": {},
   "source": [
    "Onboarding | Bullet Exercises\n",
    "\n",
    "Another new feature we're introducing is the bullet exercise, which allows you to easily practice a new concept through repetition. Check it out below!\n",
    "\n",
    "Do what they ask, click Submit Answer, move to the next bullet (quick task)."
   ]
  },
  {
   "cell_type": "code",
   "execution_count": null,
   "metadata": {},
   "outputs": [],
   "source": [
    "# Use SQL to write our first \"Hello world\"\n",
    "SELECT 'SQL is cool!'\n",
    "AS result;"
   ]
  },
  {
   "cell_type": "markdown",
   "metadata": {},
   "source": []
  },
  {
   "cell_type": "markdown",
   "metadata": {},
   "source": [
    "SELECTing single columns\n",
    "\n",
    "While SQL can be used to create and modify databases, the focus of this course will be querying databases. A query is a request for data from a database table (or combination of tables). Querying is an essential skill for a data scientist, since the data you need for your analyses will often live in databases.\n",
    "\n",
    "In SQL, you can select data from a table using a SELECT statement. For example, the following query selects the name column from the people table:\n",
    "\n",
    "SELECT name\n",
    "FROM people;\n",
    "In this query, SELECT and FROM are called keywords. In SQL, keywords are not case-sensitive, which means you can write the same query as:\n",
    "\n",
    "select name\n",
    "from people;\n",
    "That said, it's good practice to make SQL keywords uppercase to distinguish them from other parts of your query, like column and table names.\n",
    "\n",
    "It's also good practice (but not necessary for the exercises in this course) to include a semicolon at the end of your query. This tells SQL where the end of your query is!\n",
    "\n",
    "Remember, you can see the results of executing your query in the query result tab to the right!"
   ]
  },
  {
   "cell_type": "markdown",
   "metadata": {},
   "source": [
    "SELECTing multiple columns\n",
    "\n",
    "Well done! Now you know how to select single columns.\n",
    "\n",
    "In the real world, you will often want to select multiple columns. Luckily, SQL makes this really easy. To select multiple columns from a table, simply separate the column names with commas!\n",
    "\n",
    "For example, this query selects two columns, name and birthdate, from the people table:\n",
    "\n",
    "SELECT name, birthdate\n",
    "FROM people;\n",
    "\n",
    "Sometimes, you may want to select all columns from a table. Typing out every column name would be a pain, so there's a handy shortcut:\n",
    "\n",
    "SELECT *\n",
    "FROM people;\n",
    "\n",
    "If you only want to return a certain number of results, you can use the LIMIT keyword to limit the number of rows returned:\n",
    "\n",
    "SELECT *\n",
    "FROM people\n",
    "LIMIT 10;\n",
    "\n",
    "Before getting started with the instructions below, check out the column names in the films table by clicking on the films tab to the right!"
   ]
  },
  {
   "cell_type": "markdown",
   "metadata": {},
   "source": [
    "SELECT DISTINCT\n",
    "\n",
    "Often your results will include many duplicate values. If you want to select all the unique values from a column, you can use the DISTINCT keyword.\n",
    "\n",
    "This might be useful if, for example, you're interested in knowing which languages are represented in the films table:\n",
    "\n",
    "SELECT DISTINCT language\n",
    "FROM films;\n",
    "\n",
    "Remember, you can check out the data in the tables by clicking on the tabs to the right under the editor!"
   ]
  },
  {
   "cell_type": "code",
   "execution_count": null,
   "metadata": {},
   "outputs": [],
   "source": [
    "SELECT DISTINCT country\n",
    "FROM films;\n",
    "\n",
    "SELECT DISTINCT certification\n",
    "FROM films;\n",
    "\n",
    "SELECT DISTINCT role\n",
    "FROM roles;"
   ]
  },
  {
   "cell_type": "markdown",
   "metadata": {},
   "source": [
    "Learning to COUNT\n",
    "\n",
    "What if you want to count the number of employees in your employees table? The COUNT statement lets you do this by returning the number of rows in one or more columns.\n",
    "\n",
    "For example, this code gives the number of rows in the people table:\n",
    "\n",
    "SELECT COUNT(*)\n",
    "FROM people;\n",
    "\n",
    "How many records are contained in the reviews table?"
   ]
  },
  {
   "cell_type": "markdown",
   "metadata": {},
   "source": [
    "Practice with COUNT\n",
    "\n",
    "As you've seen, COUNT(*) tells you how many rows are in a table. However, if you want to count the number of non-missing values in a particular column, you can call COUNT on just that column.\n",
    "\n",
    "For example, to count the number of birth dates present in the people table:\n",
    "\n",
    "SELECT COUNT(birthdate)\n",
    "FROM people;\n",
    "\n",
    "It's also common to combine COUNT with DISTINCT to count the number of distinct values in a column.\n",
    "\n",
    "For example, this query counts the number of distinct birth dates contained in the people table:\n",
    "\n",
    "SELECT COUNT(DISTINCT birthdate)\n",
    "FROM people;\n",
    "\n",
    "Let's get some practice with COUNT!"
   ]
  },
  {
   "cell_type": "code",
   "execution_count": null,
   "metadata": {},
   "outputs": [],
   "source": [
    "SELECT COUNT(DISTINCT(country))\n",
    "FROM films;"
   ]
  },
  {
   "cell_type": "markdown",
   "metadata": {},
   "source": [
    "Introduction to NULL and IS NULL\n",
    "\n",
    "In SQL, NULL represents a missing or unknown value. You can check for NULL values using the expression IS NULL. For example, to count the number of missing birth dates in the people table:\n",
    "\n",
    "SELECT COUNT(*)\n",
    "FROM people\n",
    "WHERE birthdate IS NULL;\n",
    "As you can see, IS NULL is useful when combined with WHERE to figure out what data you're missing.\n",
    "\n",
    "Sometimes, you'll want to filter out missing values so you only get results which are not NULL. To do this, you can use the IS NOT NULL operator.\n",
    "\n",
    "For example, this query gives the names of all people whose birth dates are not missing in the people table.\n",
    "\n",
    "SELECT name\n",
    "FROM people\n",
    "WHERE birthdate IS NOT NULL;"
   ]
  },
  {
   "cell_type": "code",
   "execution_count": null,
   "metadata": {},
   "outputs": [],
   "source": [
    "SELECT name\n",
    "FROM people\n",
    "WHERE deathdate IS NULL\n",
    "\n",
    "SELECT title\n",
    "FROM films\n",
    "WHERE budget IS NULL\n",
    "\n",
    "SELECT count(*)\n",
    "FROM films\n",
    "WHERE language IS NULL"
   ]
  },
  {
   "cell_type": "markdown",
   "metadata": {},
   "source": [
    "LIKE and NOT LIKE\n",
    "\n",
    "As you've seen, the WHERE clause can be used to filter text data. However, so far you've only been able to filter by specifying the exact text you're interested in. In the real world, often you'll want to search for a pattern rather than a specific text string.\n",
    "\n",
    "In SQL, the LIKE operator can be used in a WHERE clause to search for a pattern in a column. To accomplish this, you use something called a wildcard as a placeholder for some other values. There are two wildcards you can use with LIKE:\n",
    "\n",
    "The % wildcard will match zero, one, or many characters in text. For example, the following query matches companies like 'Data', 'DataC' 'DataCamp', 'DataMind', and so on:\n",
    "\n",
    "SELECT name\n",
    "FROM companies\n",
    "WHERE name LIKE 'Data%';\n",
    "\n",
    "The _ wildcard will match a single character. For example, the following query matches companies like 'DataCamp', 'DataComp', and so on:\n",
    "\n",
    "SELECT name\n",
    "FROM companies\n",
    "WHERE name LIKE 'DataC_mp';\n",
    "\n",
    "You can also use the NOT LIKE operator to find records that don't match the pattern you specify."
   ]
  },
  {
   "cell_type": "code",
   "execution_count": null,
   "metadata": {},
   "outputs": [],
   "source": [
    "SELECT name\n",
    "FROM people\n",
    "WHERE name like 'B%'\n",
    "\n",
    "# Get names of all people where r is the 2nd letter!\n",
    "SELECT name\n",
    "FROM people\n",
    "WHERE name like '_r%'\n",
    "\n",
    "# Get names of all people whose name DOES NOT start with A\n",
    "SELECT name\n",
    "FROM people\n",
    "WHERE name NOT LIKE 'A%'"
   ]
  },
  {
   "cell_type": "markdown",
   "metadata": {},
   "source": [
    "Aggregate functions\n",
    "\n",
    "Often, you will want to perform some calculation on the data in a database. SQL provides a few functions, called aggregate functions, to help you out with this.\n",
    "\n",
    "For example,\n",
    "\n",
    "SELECT AVG(budget)\n",
    "FROM films;\n",
    "\n",
    "gives you the average value from the budget column of the films table. Similarly, the MAX function returns the highest budget:\n",
    "\n",
    "SELECT MAX(budget)\n",
    "FROM films;\n",
    "\n",
    "The SUM function returns the result of adding up the numeric values in a column:\n",
    "\n",
    "SELECT SUM(budget)\n",
    "FROM films;\n",
    "\n",
    "You can probably guess what the MIN function does! Now it's your turn to try out some SQL functions."
   ]
  },
  {
   "cell_type": "code",
   "execution_count": null,
   "metadata": {},
   "outputs": [],
   "source": [
    "SELECT SUM(duration)\n",
    "FROM films\n",
    "\n",
    "SELECT AVG(duration)\n",
    "FROM films\n",
    "\n",
    "SELECT MIN(duration)\n",
    "FROM films\n",
    "\n",
    "SELECT MAX(duration)\n",
    "FROM films"
   ]
  },
  {
   "cell_type": "markdown",
   "metadata": {},
   "source": [
    "Combining aggregate functions with WHERE\n",
    "\n",
    "Aggregate functions can be combined with the WHERE clause to gain further insights from your data.\n",
    "\n",
    "For example, to get the total budget of movies made in the year 2010 or later:\n",
    "\n",
    "SELECT SUM(budget)\n",
    "FROM films\n",
    "WHERE release_year >= 2010;"
   ]
  },
  {
   "cell_type": "code",
   "execution_count": null,
   "metadata": {},
   "outputs": [],
   "source": [
    "SELECT SUM(gross)\n",
    "FROM films\n",
    "WHERE release_year >= 2000\n",
    "\n",
    "SELECT AVG(gross)\n",
    "FROM films\n",
    "WHERE title LIKE 'A%'\n",
    "\n",
    "SELECT MIN(gross)\n",
    "FROM films\n",
    "WHERE release_year = 1994\n",
    "\n",
    "SELECT MAX(gross)\n",
    "FROM films\n",
    "WHERE release_year BETWEEN 2000 AND 2012"
   ]
  },
  {
   "cell_type": "markdown",
   "metadata": {},
   "source": [
    "A note on arithmetic\n",
    "\n",
    "In addition to using aggregate functions, you can perform basic arithmetic with symbols like +, -, *, and /.\n",
    "\n",
    "So, for example, this gives a result of 12:\n",
    "\n",
    "SELECT (4 * 3);\n",
    "However, the following gives a result of 1:\n",
    "\n",
    "SELECT (4 / 3);\n",
    "What's going on here?\n",
    "\n",
    "SQL assumes that if you divide an integer by an integer, you want to get an integer back. So be careful when dividing!\n",
    "\n",
    "If you want more precision when dividing, you can add decimal places to your numbers. For example,\n",
    "\n",
    "SELECT (4.0 / 3.0) AS result;\n",
    "gives you the result you would expect: 1.333."
   ]
  },
  {
   "cell_type": "markdown",
   "metadata": {},
   "source": [
    "It's AS simple AS aliasing\n",
    "\n",
    "You may have noticed in the first exercise of this chapter that the column name of your result was just the name of the function you used. For example,\n",
    "\n",
    "SELECT MAX(budget)\n",
    "FROM films;\n",
    "\n",
    "gives you a result with one column, named max. But what if you use two functions like this?\n",
    "\n",
    "SELECT MAX(budget), MAX(duration)\n",
    "FROM films;\n",
    "\n",
    "Well, then you'd have two columns named max, which isn't very useful!\n",
    "\n",
    "To avoid situations like this, SQL allows you to do something called aliasing. Aliasing simply means you assign a temporary name to something. To alias, you use the AS keyword, which you've already seen earlier in this course.\n",
    "\n",
    "For example, in the above example we could use aliases to make the result clearer:\n",
    "\n",
    "SELECT MAX(budget) AS max_budget,\n",
    "       MAX(duration) AS max_duration\n",
    "FROM films;\n",
    "\n",
    "Aliases are helpful for making results more readable!"
   ]
  },
  {
   "cell_type": "code",
   "execution_count": null,
   "metadata": {},
   "outputs": [],
   "source": [
    "SELECT title, gross - budget AS net_profit\n",
    "FROM films\n",
    "\n",
    "SELECT title, duration / 60.0 AS duration_hours\n",
    "FROM films\n",
    "\n",
    "SELECT AVG(duration) / 60.0 AS avg_duration_hours\n",
    "FROM films"
   ]
  },
  {
   "cell_type": "markdown",
   "metadata": {},
   "source": [
    "Even more aliasing\n",
    "\n",
    "Let's practice your newfound aliasing skills some more before moving on!\n",
    "\n",
    "Recall: SQL assumes that if you divide an integer by an integer, you want to get an integer back.\n",
    "\n",
    "This means that the following will erroneously result in 400.0:\n",
    "\n",
    "SELECT 45 / 10 * 100.0;\n",
    "\n",
    "This is because 45 / 10 evaluates to an integer (4), and not a decimal number like we would expect.\n",
    "\n",
    "So when you're dividing make sure at least one of your numbers has a decimal place:\n",
    "\n",
    "SELECT 45 * 100.0 / 10;\n",
    "\n",
    "The above now gives the correct answer of 450.0 since the numerator (45 * 100.0) of the division is now a decimal!"
   ]
  },
  {
   "cell_type": "code",
   "execution_count": null,
   "metadata": {},
   "outputs": [],
   "source": [
    "SELECT COUNT(deathdate) * 100.0 / count(*) AS percentage_dead\n",
    "FROM people\n",
    "\n",
    "SELECT MAX(release_year) - MIN(release_year) AS difference\n",
    "FROM films\\\n",
    "\n",
    "SELECT (MAX(release_year) - MIN(release_year)) / 10 AS number_of_decades\n",
    "FROM films"
   ]
  },
  {
   "cell_type": "markdown",
   "metadata": {},
   "source": [
    "ORDER BY\n",
    "\n",
    "Congratulations on making it this far! You now know how to select and filter your results.\n",
    "\n",
    "In this chapter you'll learn how to sort and group your results to gain further insight. Let's go!\n",
    "\n",
    "In SQL, the ORDER BY keyword is used to sort results in ascending or descending order according to the values of one or more columns.\n",
    "\n",
    "By default ORDER BY will sort in ascending order. If you want to sort the results in descending order, you can use the DESC keyword. For example,\n",
    "\n",
    "SELECT title\n",
    "FROM films\n",
    "ORDER BY release_year DESC;\n",
    "\n",
    "gives you the titles of films sorted by release year, from newest to oldest."
   ]
  },
  {
   "cell_type": "code",
   "execution_count": null,
   "metadata": {},
   "outputs": [],
   "source": [
    "SELECT birthdate, name\n",
    "FROM people\n",
    "ORDER BY birthdate\n",
    "\n",
    "SELECT title\n",
    "FROM films\n",
    "WHERE release_year IN (2000, 2012)\n",
    "ORDER BY release_year\n",
    "\n",
    "SELECT title, gross\n",
    "FROM films\n",
    "WHERE title LIKE 'M%'\n",
    "ORDER BY title"
   ]
  },
  {
   "cell_type": "markdown",
   "metadata": {},
   "source": [
    "Sorting single columns (DESC)\n",
    "\n",
    "To order results in descending order, you can put the keyword DESC after your ORDER BY. For example, to get all the names in the people table, in reverse alphabetical order:\n",
    "\n",
    "SELECT name\n",
    "FROM people\n",
    "ORDER BY name DESC;"
   ]
  },
  {
   "cell_type": "code",
   "execution_count": null,
   "metadata": {},
   "outputs": [],
   "source": [
    "SELECT imdb_score, film_id\n",
    "FROM reviews\n",
    "ORDER BY imdb_score DESC\n",
    "\n",
    "SELECT title\n",
    "FROM films\n",
    "ORDER BY title DESC\n",
    "\n",
    "SELECT title, duration\n",
    "FROM films\n",
    "ORDER BY duration DESC"
   ]
  },
  {
   "cell_type": "markdown",
   "metadata": {},
   "source": [
    "Sorting multiple columns\n",
    "\n",
    "ORDER BY can also be used to sort on multiple columns. It will sort by the first column specified, then sort by the next, then the next, and so on. For example,\n",
    "\n",
    "SELECT birthdate, name\n",
    "FROM people\n",
    "ORDER BY birthdate, name;\n",
    "\n",
    "sorts on birth dates first (oldest to newest) and then sorts on the names in alphabetical order. The order of columns is important!\n",
    "\n",
    "Try using ORDER BY to sort multiple columns! Remember, to specify multiple columns you separate the column names with a comma."
   ]
  },
  {
   "cell_type": "code",
   "execution_count": null,
   "metadata": {},
   "outputs": [],
   "source": [
    "SELECT birthdate, name\n",
    "FROM people\n",
    "ORDER BY birthdate, name\n",
    "\n",
    "SELECT release_year, duration, title\n",
    "FROM films\n",
    "ORDER BY release_year, duration\n",
    "\n",
    "SELECT certification, release_year, title\n",
    "FROM films\n",
    "ORDER BY certification, release_year\n",
    "\n",
    "SELECT name, birthdate\n",
    "FROM people\n",
    "ORDER BY name, birthdate"
   ]
  },
  {
   "cell_type": "markdown",
   "metadata": {},
   "source": [
    "GROUP BY\n",
    "\n",
    "Now you know how to sort results! Often you'll need to aggregate results. For example, you might want to count the number of male and female employees in your company. Here, what you want is to group all the males together and count them, and group all the females together and count them. In SQL, GROUP BY allows you to group a result by one or more columns, like so:\n",
    "\n",
    "SELECT sex, count(*)\n",
    "FROM employees\n",
    "GROUP BY sex;\n",
    "\n",
    "This might give, for example:\n",
    "\n",
    "sex\tcount\n",
    "male\t15\n",
    "female\t19\n",
    "\n",
    "Commonly, GROUP BY is used with aggregate functions like COUNT() or MAX(). Note that GROUP BY always goes after the FROM clause!\n",
    "\n",
    "GROUP BY practice\n",
    "\n",
    "As you've just seen, combining aggregate functions with GROUP BY can yield some powerful results!\n",
    "\n",
    "A word of warning: SQL will return an error if you try to SELECT a field that is not in your GROUP BY clause without using it to calculate some kind of value about the entire group.\n",
    "\n",
    "Note that you can combine GROUP BY with ORDER BY to group your results, calculate something about them, and then order your results. For example,\n",
    "\n",
    "SELECT sex, count(*)\n",
    "FROM employees\n",
    "GROUP BY sex\n",
    "ORDER BY count DESC;\n",
    "might return something like\n",
    "\n",
    "sex\tcount\n",
    "female\t19\n",
    "male\t15\n",
    "\n",
    "because there are more females at our company than males. Note also that ORDER BY always goes after GROUP BY. "
   ]
  },
  {
   "cell_type": "code",
   "execution_count": null,
   "metadata": {},
   "outputs": [],
   "source": [
    "SELECT release_year, count(*)\n",
    "FROM films\n",
    "GROUP BY release_year\n",
    "\n",
    "SELECT release_year, AVG(duration)\n",
    "FROM films\n",
    "GROUP BY release_year\n",
    "\n",
    "SELECT release_year, MAX(budget)\n",
    "FROM films\n",
    "GROUP BY release_year\n",
    "\n",
    "SELECT release_year, MAX(budget)\n",
    "FROM films\n",
    "GROUP BY release_year"
   ]
  },
  {
   "cell_type": "markdown",
   "metadata": {},
   "source": [
    "GROUP BY practice (2)\n",
    "\n",
    "Now practice your new skills by combining GROUP BY and ORDER BY with some more aggregate functions!\n",
    "\n",
    "Make sure to always put the ORDER BY clause at the end of your query. You can't sort values that you haven't calculated yet!"
   ]
  },
  {
   "cell_type": "code",
   "execution_count": null,
   "metadata": {},
   "outputs": [],
   "source": [
    "SELECT release_year, MIN(gross)\n",
    "FROM films\n",
    "GROUP BY release_year\n",
    "ORDER BY release_year\n",
    "\n",
    "SELECT language, SUM(gross)\n",
    "FROM films\n",
    "GROUP BY language\n",
    "ORDER BY language\n",
    "\n",
    "SELECT country, SUM(budget)\n",
    "FROM films\n",
    "GROUP BY country\n",
    "ORDER BY country\n",
    "\n",
    "SELECT release_year, country, MAX(budget)\n",
    "FROM films\n",
    "GROUP BY release_year, country\n",
    "ORDER BY release_year, country\n",
    "\n",
    "SELECT country, release_year, MIN(gross)\n",
    "FROM films\n",
    "GROUP BY country, release_year\n",
    "ORDER BY country, release_year"
   ]
  },
  {
   "cell_type": "markdown",
   "metadata": {},
   "source": [
    "HAVING a great time\n",
    "\n",
    "In SQL, aggregate functions can't be used in WHERE clauses. For example, the following query is invalid:\n",
    "\n",
    "SELECT release_year\n",
    "FROM films\n",
    "GROUP BY release_year\n",
    "WHERE COUNT(title) > 10;\n",
    "\n",
    "This means that if you want to filter based on the result of an aggregate function, you need another way! That's where the HAVING clause comes in. For example,\n",
    "\n",
    "SELECT release_year\n",
    "FROM films\n",
    "GROUP BY release_year\n",
    "HAVING COUNT(title) > 10;\n",
    "\n",
    "shows only those years in which more than 10 films were released."
   ]
  },
  {
   "cell_type": "code",
   "execution_count": null,
   "metadata": {},
   "outputs": [],
   "source": [
    "SELECT release_year, AVG(budget) AS avg_budget, AVG(gross) AS avg_gross\n",
    "FROM films\n",
    "WHERE release_year > 1990\n",
    "GROUP BY release_year\n",
    "HAVING AVG(budget) > 60000000\n",
    "ORDER BY avg_gross DESC\n",
    "\n",
    "-- select country, average budget, average gross\n",
    "SELECT country, AVG(budget) AS avg_budget, AVG(gross) AS avg_gross\n",
    "-- from the films table\n",
    "FROM films\n",
    "-- group by country \n",
    "GROUP BY country\n",
    "-- where the country has more than 10 titles\n",
    "HAVING count(title) > 10\n",
    "-- order by country\n",
    "ORDER BY country\n",
    "-- limit to only show 5 results\n",
    "LIMIT 5"
   ]
  },
  {
   "cell_type": "markdown",
   "metadata": {},
   "source": [
    "A taste of things to come\n",
    "\n",
    "Congrats on making it to the end of the course! By now you should have a good understanding of the basics of SQL.\n",
    "\n",
    "There's one more concept we're going to introduce. You may have noticed that all your results so far have been from just one table, e.g. films or people.\n",
    "\n",
    "In the real world however, you will often want to query multiple tables. For example, what if you want to see the IMDB score for a particular movie?\n",
    "\n",
    "In this case, you'd want to get the ID of the movie from the films table and then use it to get IMDB information from the reviews table. In SQL, this concept is known as a join, and a basic join is shown in the editor to the right.\n",
    "\n",
    "The query in the editor gets the IMDB score for the film To Kill a Mockingbird! Cool right?\n",
    "\n",
    "As you can see, joins are incredibly useful and important to understand for anyone using SQL.\n",
    "\n",
    "We have a whole follow-up course dedicated to them called Joining Data in PostgreSQL for you to hone your database skills further!"
   ]
  },
  {
   "cell_type": "code",
   "execution_count": null,
   "metadata": {},
   "outputs": [],
   "source": []
  }
 ],
 "metadata": {
  "kernelspec": {
   "display_name": "Python 3",
   "language": "python",
   "name": "python3"
  },
  "language_info": {
   "codemirror_mode": {
    "name": "ipython",
    "version": 3
   },
   "file_extension": ".py",
   "mimetype": "text/x-python",
   "name": "python",
   "nbconvert_exporter": "python",
   "pygments_lexer": "ipython3",
   "version": "3.7.1"
  }
 },
 "nbformat": 4,
 "nbformat_minor": 2
}
